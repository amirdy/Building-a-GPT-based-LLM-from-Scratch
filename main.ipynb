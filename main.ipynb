{
 "cells": [
  {
   "cell_type": "code",
   "execution_count": 1,
   "metadata": {},
   "outputs": [],
   "source": [
    "import torch\n",
    "import torch.nn as nn\n",
    "import tiktoken\n",
    "from models.gpt import GPT\n",
    "from datasets.dataset import Dataset\n",
    "from datasets.data_module import DataModule\n",
    "from config import GPTConfig, TrainingConfig\n",
    "import os\n",
    "import time\n",
    "import urllib.request\n",
    "from modules.trainer import Trainer\n",
    "\n",
    "device = torch.device('cuda' if torch.cuda.is_available() else 'cpu')\n",
    "\n",
    "\n",
    "gpt_config = GPTConfig()\n",
    "training_config = TrainingConfig()\n",
    "\n",
    "\n",
    "dm = DataModule(training_config.batch_size, gpt_config.context_length)\n",
    "train_dataloader = dm.train_dataloader()\n",
    "val_dataloader = dm.val_dataloader()"
   ]
  },
  {
   "cell_type": "code",
   "execution_count": 2,
   "metadata": {},
   "outputs": [
    {
     "name": "stdout",
     "output_type": "stream",
     "text": [
      "torch.Size([2, 256]) torch.Size([2, 256])\n"
     ]
    }
   ],
   "source": [
    "for X,y in train_dataloader:\n",
    "    print(X.shape, y.shape)\n",
    "    break"
   ]
  },
  {
   "cell_type": "code",
   "execution_count": 3,
   "metadata": {},
   "outputs": [
    {
     "ename": "AttributeError",
     "evalue": "'NoneType' object has no attribute 'parameters'",
     "output_type": "error",
     "traceback": [
      "\u001b[1;31m---------------------------------------------------------------------------\u001b[0m",
      "\u001b[1;31mAttributeError\u001b[0m                            Traceback (most recent call last)",
      "Cell \u001b[1;32mIn[3], line 1\u001b[0m\n\u001b[1;32m----> 1\u001b[0m trainer \u001b[38;5;241m=\u001b[39m \u001b[43mTrainer\u001b[49m\u001b[43m(\u001b[49m\n\u001b[0;32m      2\u001b[0m \u001b[43m    \u001b[49m\u001b[43mtokenizer\u001b[49m\u001b[43m \u001b[49m\u001b[38;5;241;43m=\u001b[39;49m\u001b[43m \u001b[49m\u001b[43mdm\u001b[49m\u001b[38;5;241;43m.\u001b[39;49m\u001b[43mtokenizer\u001b[49m\u001b[43m,\u001b[49m\n\u001b[0;32m      3\u001b[0m \u001b[43m    \u001b[49m\u001b[43mtrain_dataloader\u001b[49m\u001b[43m \u001b[49m\u001b[38;5;241;43m=\u001b[39;49m\u001b[43m \u001b[49m\u001b[43mtrain_dataloader\u001b[49m\u001b[43m,\u001b[49m\n\u001b[0;32m      4\u001b[0m \u001b[43m    \u001b[49m\u001b[43mval_dataloader\u001b[49m\u001b[43m \u001b[49m\u001b[38;5;241;43m=\u001b[39;49m\u001b[43m \u001b[49m\u001b[43mval_dataloader\u001b[49m\u001b[43m,\u001b[49m\n\u001b[0;32m      5\u001b[0m \u001b[43m    \u001b[49m\u001b[43mmodel\u001b[49m\u001b[43m \u001b[49m\u001b[38;5;241;43m=\u001b[39;49m\u001b[43m \u001b[49m\u001b[38;5;28;43;01mNone\u001b[39;49;00m\u001b[43m,\u001b[49m\n\u001b[0;32m      6\u001b[0m \u001b[43m    \u001b[49m\u001b[43mconfig\u001b[49m\u001b[43m \u001b[49m\u001b[38;5;241;43m=\u001b[39;49m\u001b[43m \u001b[49m\u001b[43mtraining_config\u001b[49m\u001b[43m,\u001b[49m\n\u001b[0;32m      7\u001b[0m \u001b[43m    \u001b[49m\u001b[43mdevice\u001b[49m\u001b[43m \u001b[49m\u001b[38;5;241;43m=\u001b[39;49m\u001b[43m \u001b[49m\u001b[43mdevice\u001b[49m\u001b[43m,\u001b[49m\n\u001b[0;32m      8\u001b[0m \u001b[43m)\u001b[49m\n",
      "File \u001b[1;32mc:\\Users\\amird\\Documents\\personal_projects\\Building-a-GPT-based-LLM-from-Scratch\\modules\\trainer.py:13\u001b[0m, in \u001b[0;36mTrainer.__init__\u001b[1;34m(self, tokenizer, train_dataloader, val_dataloader, model, config, device)\u001b[0m\n\u001b[0;32m     11\u001b[0m \u001b[38;5;28mself\u001b[39m\u001b[38;5;241m.\u001b[39mconfig \u001b[38;5;241m=\u001b[39m config\n\u001b[0;32m     12\u001b[0m \u001b[38;5;28mself\u001b[39m\u001b[38;5;241m.\u001b[39mcriterion \u001b[38;5;241m=\u001b[39m nn\u001b[38;5;241m.\u001b[39mCrossEntropyLoss()\n\u001b[1;32m---> 13\u001b[0m \u001b[38;5;28mself\u001b[39m\u001b[38;5;241m.\u001b[39moptimizer \u001b[38;5;241m=\u001b[39m \u001b[38;5;28;43mself\u001b[39;49m\u001b[38;5;241;43m.\u001b[39;49m\u001b[43mconfig_optimizer\u001b[49m\u001b[43m(\u001b[49m\u001b[43m)\u001b[49m\n\u001b[0;32m     14\u001b[0m \u001b[38;5;28mself\u001b[39m\u001b[38;5;241m.\u001b[39mdevice \u001b[38;5;241m=\u001b[39m device\n\u001b[0;32m     15\u001b[0m \u001b[38;5;28mself\u001b[39m\u001b[38;5;241m.\u001b[39mbest_val_loss \u001b[38;5;241m=\u001b[39m \u001b[38;5;28mfloat\u001b[39m(\u001b[38;5;124m'\u001b[39m\u001b[38;5;124minf\u001b[39m\u001b[38;5;124m'\u001b[39m)\n",
      "File \u001b[1;32mc:\\Users\\amird\\Documents\\personal_projects\\Building-a-GPT-based-LLM-from-Scratch\\modules\\trainer.py:113\u001b[0m, in \u001b[0;36mTrainer.config_optimizer\u001b[1;34m(self)\u001b[0m\n\u001b[0;32m    111\u001b[0m \u001b[38;5;28;01mdef\u001b[39;00m \u001b[38;5;21mconfig_optimizer\u001b[39m(\u001b[38;5;28mself\u001b[39m):\n\u001b[0;32m    112\u001b[0m \u001b[38;5;250m    \u001b[39m\u001b[38;5;124;03m\"\"\" Config optimizer \"\"\"\u001b[39;00m\n\u001b[1;32m--> 113\u001b[0m     optmizer \u001b[38;5;241m=\u001b[39m torch\u001b[38;5;241m.\u001b[39moptim\u001b[38;5;241m.\u001b[39mAdamW(\u001b[38;5;28;43mself\u001b[39;49m\u001b[38;5;241;43m.\u001b[39;49m\u001b[43mmodel\u001b[49m\u001b[38;5;241;43m.\u001b[39;49m\u001b[43mparameters\u001b[49m(), lr \u001b[38;5;241m=\u001b[39m \u001b[38;5;28mself\u001b[39m\u001b[38;5;241m.\u001b[39mconfig\u001b[38;5;241m.\u001b[39mlearning_rate, weight_decay \u001b[38;5;241m=\u001b[39m \u001b[38;5;28mself\u001b[39m\u001b[38;5;241m.\u001b[39mconfig\u001b[38;5;241m.\u001b[39mweight_decay)\n\u001b[0;32m    114\u001b[0m     \u001b[38;5;28;01mreturn\u001b[39;00m optmizer\n",
      "\u001b[1;31mAttributeError\u001b[0m: 'NoneType' object has no attribute 'parameters'"
     ]
    }
   ],
   "source": [
    "trainer = Trainer(\n",
    "    tokenizer = dm.tokenizer,\n",
    "    train_dataloader = train_dataloader,\n",
    "    val_dataloader = val_dataloader,\n",
    "    model = None,\n",
    "    config = training_config,\n",
    "    device = device,\n",
    ")"
   ]
  },
  {
   "cell_type": "code",
   "execution_count": 46,
   "metadata": {},
   "outputs": [],
   "source": [
    "import os\n",
    "import urllib.request\n",
    "\n",
    "file_path = \"the-verdict.txt\"\n",
    "url = \"https://raw.githubusercontent.com/rasbt/LLMs-from-scratch/main/ch02/01_main-chapter-code/the-verdict.txt\"\n",
    "\n",
    "if not os.path.exists(file_path):\n",
    "    with urllib.request.urlopen(url) as response:\n",
    "        text_data = response.read().decode('utf-8')\n",
    "    with open(file_path, \"w\", encoding=\"utf-8\") as file:\n",
    "        file.write(text_data)\n",
    "else:\n",
    "    with open(file_path, \"r\", encoding=\"utf-8\") as file:\n",
    "        text_data = file.read()"
   ]
  },
  {
   "cell_type": "code",
   "execution_count": 47,
   "metadata": {},
   "outputs": [],
   "source": [
    "tokenizer = tiktoken.get_encoding(\"gpt2\")\n",
    "split_idx = int(0.9 * len(text_data))\n",
    "training_set = text_data[0 : split_idx]\n",
    "validation_set = text_data[split_idx : ]\n",
    "training_set = tokenizer.encode(training_set, allowed_special={\"<|endoftext|>\"})\n",
    "validation_set = tokenizer.encode(validation_set, allowed_special={\"<|endoftext|>\"})\n"
   ]
  },
  {
   "cell_type": "code",
   "execution_count": 40,
   "metadata": {},
   "outputs": [],
   "source": [
    "gpt_config = GPTConfig()\n",
    "training_config = TrainingConfig()"
   ]
  },
  {
   "cell_type": "code",
   "execution_count": null,
   "metadata": {},
   "outputs": [],
   "source": [
    "train_dataset = Dataset(training_set, gpt_config.context_length)\n",
    "val_dataset = Dataset(validation_set, gpt_config.context_length)\n",
    "\n",
    "train_dataloader = DataLoader(train_dataset, batch_size=training_config.batch_size, shuffle=True, drop_last = True, num_workers = 0)\n",
    "val_dataloader = DataLoader(val_dataset, batch_size=training_config.batch_size, shuffle=False, drop_last = False, num_workers = 0)"
   ]
  },
  {
   "cell_type": "code",
   "execution_count": 49,
   "metadata": {},
   "outputs": [
    {
     "name": "stdout",
     "output_type": "stream",
     "text": [
      "2 3\n"
     ]
    }
   ],
   "source": [
    "def print_loss(train_loss, val_loss):\n",
    "  print(f'Epoch {epoch}: train loss {losses_train[-1]:.3f}, val loss is {losses_val[-1]:.3f}')"
   ]
  },
  {
   "cell_type": "code",
   "execution_count": null,
   "metadata": {},
   "outputs": [],
   "source": [
    "print_loss = lambda epoch, losses_train, losses_val: f'Epoch {epoch}: train loss {losses_train[-1]:.3f}, val loss is {losses_val[-1]:.3f}'\n"
   ]
  },
  {
   "cell_type": "code",
   "execution_count": 29,
   "metadata": {},
   "outputs": [
    {
     "data": {
      "text/plain": [
       "10"
      ]
     },
     "execution_count": 29,
     "metadata": {},
     "output_type": "execute_result"
    }
   ],
   "source": [
    "train_dataset = Dataset(training_set, gpt_config.context_length)\n",
    "val_dataset = Dataset(validation_set, gpt_config.context_length)\n",
    "\n",
    "train_dataloader = DataLoader(train_dataset, batch_size=training_config.batch_size, shuffle=True, drop_last = True, num_workers = 0)\n",
    "val_dataloader = DataLoader(val_dataset, batch_size=training_config.batch_size, shuffle=False, drop_last = False, num_workers = 0)\n"
   ]
  },
  {
   "cell_type": "code",
   "execution_count": 33,
   "metadata": {},
   "outputs": [],
   "source": [
    "import yaml\n",
    "\n",
    "# Load the YAML configuration\n",
    "with open(\"config.yaml\", \"r\") as file:\n",
    "    config = yaml.safe_load(file)\n",
    "\n",
    "# Access hyperparameters\n",
    "learning_rate = config[\"training\"][\"learning_rate\"]\n",
    "batch_size = config[\"training\"][\"batch_size\"]\n"
   ]
  },
  {
   "cell_type": "code",
   "execution_count": 34,
   "metadata": {},
   "outputs": [
    {
     "data": {
      "text/plain": [
       "{'model': {'name': 'CustomCNN',\n",
       "  'input_size': 128,\n",
       "  'hidden_layers': [64, 128, 256],\n",
       "  'output_size': 10},\n",
       " 'training': {'batch_size': 32,\n",
       "  'epochs': 50,\n",
       "  'learning_rate': 0.001,\n",
       "  'optimizer': 'adam',\n",
       "  'scheduler': {'step_size': 10, 'gamma': 0.1}},\n",
       " 'data': {'train_path': './data/train',\n",
       "  'val_path': './data/validation',\n",
       "  'test_path': './data/test'},\n",
       " 'logging': {'use_wandb': True, 'project_name': 'neural-net-experiment'}}"
      ]
     },
     "execution_count": 34,
     "metadata": {},
     "output_type": "execute_result"
    }
   ],
   "source": [
    "config"
   ]
  },
  {
   "cell_type": "code",
   "execution_count": null,
   "metadata": {},
   "outputs": [],
   "source": [
    "@dataclass\n",
    "class GPTConfig:\n",
    "    vocab_size = 50257   # Vocabulary size\n",
    "    context_length = 256 # Shortened context length (orig: 1024)\n",
    "    emb_dim = 768        # Embedding dimension\n",
    "    n_heads = 12         # Number of attention heads\n",
    "    n_layers = 12        # Number of layers\n",
    "    drop_rate = 0.1      # Dropout rate\n",
    "    qkv_bias = False      # Query-key-value bias\n",
    "\n",
    "\n",
    "config = GPTConfig()\n",
    "\n",
    "\n",
    "# GPT_CONFIG_124M = {\n",
    "#     \"vocab_size\": 50257,   # Vocabulary size\n",
    "#     \"context_length\": 256, # Shortened context length (orig: 1024)\n",
    "#     \"emb_dim\": 768,        # Embedding dimension\n",
    "#     \"n_heads\": 12,         # Number of attention heads\n",
    "#     \"n_layers\": 12,        # Number of layers\n",
    "#     \"drop_rate\": 0.1,      # Dropout rate\n",
    "#     \"qkv_bias\": False      # Query-key-value bias\n",
    "# }\n",
    "# gpt = GPT(GPT_CONFIG_124M)\n",
    "# x = torch.zeros((2,3)).long()\n",
    "# out = gpt(x)\n",
    "# print(GPT)"
   ]
  },
  {
   "cell_type": "code",
   "execution_count": 23,
   "metadata": {},
   "outputs": [
    {
     "data": {
      "text/plain": [
       "256"
      ]
     },
     "execution_count": 23,
     "metadata": {},
     "output_type": "execute_result"
    }
   ],
   "source": [
    "config.context_length"
   ]
  },
  {
   "cell_type": "code",
   "execution_count": 15,
   "metadata": {},
   "outputs": [
    {
     "name": "stdout",
     "output_type": "stream",
     "text": [
      "3.12.5 (tags/v3.12.5:ff3bc82, Aug  6 2024, 20:45:27) [MSC v.1940 64 bit (AMD64)]\n"
     ]
    }
   ],
   "source": [
    "import sys\n",
    "print(sys.version)\n"
   ]
  }
 ],
 "metadata": {
  "kernelspec": {
   "display_name": "Python 3",
   "language": "python",
   "name": "python3"
  },
  "language_info": {
   "codemirror_mode": {
    "name": "ipython",
    "version": 3
   },
   "file_extension": ".py",
   "mimetype": "text/x-python",
   "name": "python",
   "nbconvert_exporter": "python",
   "pygments_lexer": "ipython3",
   "version": "3.12.5"
  }
 },
 "nbformat": 4,
 "nbformat_minor": 2
}
